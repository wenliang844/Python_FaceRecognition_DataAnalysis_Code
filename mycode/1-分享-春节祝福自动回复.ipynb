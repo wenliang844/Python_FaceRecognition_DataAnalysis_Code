{
 "cells": [
  {
   "cell_type": "code",
   "execution_count": 1,
   "metadata": {},
   "outputs": [],
   "source": [
    "import itchat,re\n",
    "from itchat.content import *"
   ]
  },
  {
   "cell_type": "code",
   "execution_count": 4,
   "metadata": {},
   "outputs": [
    {
     "name": "stderr",
     "output_type": "stream",
     "text": [
      "Getting uuid of QR code.\n",
      "Downloading QR code.\n"
     ]
    },
    {
     "name": "stdout",
     "output_type": "stream",
     "text": [
      "███████████████████████████████████████           \n",
      "█              ██  ██  █  ███        ██  █  ███              █\n",
      "█  █████  ██  █  █  ████████  ██  ████  █████  █\n",
      "█  █      █  █      ████    █    █████  █    █  █      █  █\n",
      "█  █      █  █  █            █  █    █  ██        █  █      █  █\n",
      "█  █      █  ██  █  █    █  █  ██  █  █    ███  █      █  █\n",
      "█  █████  ███    ███  █  ██        ██  ███  █████  █\n",
      "█              █  █  █  █  █  █  █  █  █  █  █  █              █\n",
      "██████████  ███  █    ██      ██    █    █████████\n",
      "████    █    █      ██  ██████  █    ████████    ███\n",
      "██  █      █    ███████    ██    █  █  █      █    █    ██\n",
      "██            █  █      █  ██    ██      █  █          ████  █\n",
      "██          █  ██    █  ██    █  █  ████  █        █    █  █\n",
      "█  █  ██        █    ███  ██      ██    ██    █    █        █\n",
      "███        █      █      █    █      █  █  █        ██  █  ███\n",
      "█████  █    ██    ██    ████    █  █  █  █    █          █\n",
      "█  ███  ███  ███  ███  ███  █  █  ██  █  ██        ██\n",
      "███    ██      █  █        █████      █  ██  █    ██  █  █\n",
      "██      █  ███  █    █    ████  ██      █  █  █  ███  ██\n",
      "██    █  █  █    █  ██    █    █    ██  ██  ███  ██  █  █\n",
      "█  ██  ███      ███  █  █            █    ███  ███  ████\n",
      "██  █  █    ██    █          ██  ███    █  █      █    ████\n",
      "██  ███████      █        ██    ███          ██    █  ███\n",
      "███  █  █  █    ██        ██████  █  ██  █  ██  ███  █\n",
      "███        ███  ███        ██            █      █    ██  ███\n",
      "█  █    █    ████    █  █  █          ██    █  █  █    ██  █\n",
      "█      █████        ██  ████      ██  █  █  ███  █    ██\n",
      "█          █    ██  ██  ██          █  ██        █  ████    █\n",
      "█  █  █  ████    █  ███  █  ██    █  █    █  ██      ███\n",
      "█  ██    █      █    ██    █        █        █                ███\n",
      "█████████  █      ██  █████  ███  ██  ███        ██\n",
      "█              █  ██    █    ███████  ████  █  █      █  █\n",
      "█  █████  ███  ██      ██  ██  ██      █  ███    █  ██\n",
      "█  █      █  █  ███          █  █████  ██            ██  ██\n",
      "█  █      █  █  █    █  ███  █  █  ████      █  ██  ████\n",
      "█  █      █  ██  ██    ██    █  █  ██    ██  ██            █\n",
      "█  █████  ███        ████  ██  ████  ███  █  █      █\n",
      "█              ██  ██  █  █    █    █  █  ███  █  ██  ██  █\n",
      "███████████████████████████████████████\n"
     ]
    },
    {
     "name": "stderr",
     "output_type": "stream",
     "text": [
      "Please scan the QR code to log in.\n",
      "Please press confirm on your phone.\n",
      "Your wechat account may be LIMITED to log in WEB wechat, error info:\n",
      "<error><ret>1203</ret><message>为了你的帐号安全，此微信号不能登录网页微信。你可以使用Windows微信或Mac微信在电脑端登录。Windows微信下载地址：https://pc.weixin.qq.com  Mac微信下载地址：https://mac.weixin.qq.com</message></error>\n",
      "Start auto replying.\n"
     ]
    }
   ],
   "source": [
    "@itchat.msg_register([TEXT])\n",
    "def text_reply(msg):\n",
    "    match=re.search('年|春|快乐',msg['Text'])\n",
    "    #打印接收的信息内容\n",
    "    print(\"%s:%s\"%(msg.User['NickName'],msg.text))\n",
    "    if match:\n",
    "        itchat.send((\"新年快乐!\"),msg['FromUserName'])\n",
    "\n",
    "itchat.auto_login(enableCmdQR=True)\n",
    "itchat.run()"
   ]
  },
  {
   "cell_type": "code",
   "execution_count": null,
   "metadata": {},
   "outputs": [],
   "source": []
  }
 ],
 "metadata": {
  "kernelspec": {
   "display_name": "Python 3",
   "language": "python",
   "name": "python3"
  },
  "language_info": {
   "codemirror_mode": {
    "name": "ipython",
    "version": 3
   },
   "file_extension": ".py",
   "mimetype": "text/x-python",
   "name": "python",
   "nbconvert_exporter": "python",
   "pygments_lexer": "ipython3",
   "version": "3.7.0"
  }
 },
 "nbformat": 4,
 "nbformat_minor": 4
}
