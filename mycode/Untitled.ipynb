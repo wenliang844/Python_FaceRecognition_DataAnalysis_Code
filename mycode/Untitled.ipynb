{
 "cells": [
  {
   "cell_type": "code",
   "execution_count": null,
   "metadata": {},
   "outputs": [
    {
     "name": "stdout",
     "output_type": "stream",
     "text": [
      "人:?\n",
      "机器人:!\n",
      "人:nihao?\n",
      "机器人:nihao!\n",
      "人:你是?\n",
      "机器人:你是!\n",
      "人:我?\n",
      "机器人:我!\n",
      "人:你在这里干嘛?\n",
      "机器人:你在这里干嘛!\n",
      "人:你会python吗?\n",
      "机器人:你会python!\n"
     ]
    }
   ],
   "source": [
    "# robot\n",
    "while(True):\n",
    "    str = input(\"人:\")\n",
    "    print(\"机器人:\"+str.strip(\"吗?\")+\"!\")"
   ]
  },
  {
   "cell_type": "code",
   "execution_count": null,
   "metadata": {},
   "outputs": [],
   "source": []
  }
 ],
 "metadata": {
  "kernelspec": {
   "display_name": "Python 3",
   "language": "python",
   "name": "python3"
  },
  "language_info": {
   "codemirror_mode": {
    "name": "ipython",
    "version": 3
   },
   "file_extension": ".py",
   "mimetype": "text/x-python",
   "name": "python",
   "nbconvert_exporter": "python",
   "pygments_lexer": "ipython3",
   "version": "3.7.0"
  }
 },
 "nbformat": 4,
 "nbformat_minor": 4
}
