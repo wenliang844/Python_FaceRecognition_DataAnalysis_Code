{
 "cells": [
  {
   "cell_type": "code",
   "execution_count": 2,
   "metadata": {},
   "outputs": [],
   "source": [
    "import numpy as np\n",
    "import cv2"
   ]
  },
  {
   "cell_type": "code",
   "execution_count": 3,
   "metadata": {
    "collapsed": true
   },
   "outputs": [
    {
     "data": {
      "text/plain": [
       "array([[[250, 226, 196],\n",
       "        [250, 226, 196],\n",
       "        [250, 226, 196],\n",
       "        ...,\n",
       "        [240, 227, 213],\n",
       "        [240, 227, 211],\n",
       "        [240, 229, 207]],\n",
       "\n",
       "       [[250, 226, 196],\n",
       "        [250, 226, 196],\n",
       "        [250, 226, 196],\n",
       "        ...,\n",
       "        [240, 227, 213],\n",
       "        [240, 227, 211],\n",
       "        [240, 229, 207]],\n",
       "\n",
       "       [[250, 226, 196],\n",
       "        [250, 226, 196],\n",
       "        [250, 226, 196],\n",
       "        ...,\n",
       "        [240, 227, 213],\n",
       "        [240, 227, 211],\n",
       "        [240, 229, 207]],\n",
       "\n",
       "       ...,\n",
       "\n",
       "       [[ 75,  92,  89],\n",
       "        [ 72,  89,  86],\n",
       "        [ 66,  83,  80],\n",
       "        ...,\n",
       "        [136, 157, 172],\n",
       "        [158, 180, 192],\n",
       "        [158, 182, 188]],\n",
       "\n",
       "       [[ 74,  91,  88],\n",
       "        [ 70,  87,  84],\n",
       "        [ 64,  81,  78],\n",
       "        ...,\n",
       "        [133, 154, 169],\n",
       "        [152, 174, 186],\n",
       "        [128, 152, 158]],\n",
       "\n",
       "       [[ 71,  88,  85],\n",
       "        [ 67,  84,  81],\n",
       "        [ 60,  77,  74],\n",
       "        ...,\n",
       "        [122, 143, 158],\n",
       "        [134, 156, 168],\n",
       "        [149, 173, 179]]], dtype=uint8)"
      ]
     },
     "execution_count": 3,
     "metadata": {},
     "output_type": "execute_result"
    }
   ],
   "source": [
    "jin1 = cv2.imread('./jza.jpg')\n",
    "jin1"
   ]
  },
  {
   "cell_type": "code",
   "execution_count": 4,
   "metadata": {},
   "outputs": [
    {
     "data": {
      "text/plain": [
       "(592, 897, 3)"
      ]
     },
     "execution_count": 4,
     "metadata": {},
     "output_type": "execute_result"
    }
   ],
   "source": [
    "jin1.shape"
   ]
  },
  {
   "cell_type": "code",
   "execution_count": 5,
   "metadata": {},
   "outputs": [],
   "source": [
    "cv2.imshow('jin',jin1)\n",
    "#等键盘的输入,如果是0,无线等待\n",
    "cv2.waitKey(0)\n",
    "\n",
    "cv2.destroyAllWindows()#释放内存"
   ]
  },
  {
   "cell_type": "code",
   "execution_count": 7,
   "metadata": {},
   "outputs": [],
   "source": [
    "jin2 = cv2.cvtColor(jin1,code = cv2.COLOR_BGR2GRAY)\n",
    "cv2.imshow('1',jin2)\n",
    "cv2.waitKey(0)\n",
    "cv2.destroyAllWindows()"
   ]
  },
  {
   "cell_type": "code",
   "execution_count": 8,
   "metadata": {},
   "outputs": [
    {
     "data": {
      "text/plain": [
       "True"
      ]
     },
     "execution_count": 8,
     "metadata": {},
     "output_type": "execute_result"
    }
   ],
   "source": [
    "cv2.imwrite('./jin1.gray.jpg',jin2)"
   ]
  },
  {
   "cell_type": "code",
   "execution_count": 20,
   "metadata": {},
   "outputs": [
    {
     "data": {
      "text/plain": [
       "6"
      ]
     },
     "execution_count": 20,
     "metadata": {},
     "output_type": "execute_result"
    }
   ],
   "source": [
    "cv2.COLOR_BGR2GRAY #6的意思代表变色"
   ]
  },
  {
   "cell_type": "code",
   "execution_count": 19,
   "metadata": {},
   "outputs": [],
   "source": [
    "jin3 = cv2.resize(jin1,dsize=(440,666))\n",
    "jin3.shape\n",
    "cv2.imshow('1',jin3)\n",
    "while True:\n",
    "    if ord('q') == cv2.waitKey(1000):\n",
    "        break\n",
    "        \n",
    "cv2.destroyAllWindows()"
   ]
  },
  {
   "cell_type": "code",
   "execution_count": null,
   "metadata": {},
   "outputs": [],
   "source": []
  },
  {
   "cell_type": "code",
   "execution_count": null,
   "metadata": {},
   "outputs": [],
   "source": []
  }
 ],
 "metadata": {
  "kernelspec": {
   "display_name": "Python 3",
   "language": "python",
   "name": "python3"
  },
  "language_info": {
   "codemirror_mode": {
    "name": "ipython",
    "version": 3
   },
   "file_extension": ".py",
   "mimetype": "text/x-python",
   "name": "python",
   "nbconvert_exporter": "python",
   "pygments_lexer": "ipython3",
   "version": "3.7.0"
  }
 },
 "nbformat": 4,
 "nbformat_minor": 4
}
