{
 "cells": [
  {
   "cell_type": "code",
   "execution_count": 7,
   "metadata": {},
   "outputs": [],
   "source": [
    "import pyecharts as pec\n",
    "from pyecharts.charts import Bar"
   ]
  },
  {
   "cell_type": "code",
   "execution_count": 8,
   "metadata": {},
   "outputs": [
    {
     "ename": "SyntaxError",
     "evalue": "positional argument follows keyword argument (<ipython-input-8-6cd850f9c25f>, line 1)",
     "output_type": "error",
     "traceback": [
      "\u001b[1;36m  File \u001b[1;32m\"<ipython-input-8-6cd850f9c25f>\"\u001b[1;36m, line \u001b[1;32m1\u001b[0m\n\u001b[1;33m    bar =add('服装',attr = ['衬衫','羊毛衫','雪纺衫','裤子','袜子'] ,[5,20,36,42,41],xaxis_rotate=30)\u001b[0m\n\u001b[1;37m                                                                                  ^\u001b[0m\n\u001b[1;31mSyntaxError\u001b[0m\u001b[1;31m:\u001b[0m positional argument follows keyword argument\n"
     ]
    }
   ],
   "source": [
    "bar =add('服装',attr = ['衬衫','羊毛衫','雪纺衫','裤子','袜子'] ,[5,20,36,42,41],xaxis_rotate=30)\n",
    "bar.render()"
   ]
  },
  {
   "cell_type": "code",
   "execution_count": 9,
   "metadata": {},
   "outputs": [
    {
     "ename": "AttributeError",
     "evalue": "module 'pyecharts' has no attribute 'Bar'",
     "output_type": "error",
     "traceback": [
      "\u001b[1;31m---------------------------------------------------------------------------\u001b[0m",
      "\u001b[1;31mAttributeError\u001b[0m                            Traceback (most recent call last)",
      "\u001b[1;32m<ipython-input-9-a24a9b8d1136>\u001b[0m in \u001b[0;36m<module>\u001b[1;34m\u001b[0m\n\u001b[0;32m      2\u001b[0m \u001b[0mv1\u001b[0m \u001b[1;33m=\u001b[0m \u001b[1;33m[\u001b[0m\u001b[1;36m5\u001b[0m\u001b[1;33m,\u001b[0m\u001b[1;36m20\u001b[0m\u001b[1;33m,\u001b[0m\u001b[1;36m36\u001b[0m\u001b[1;33m,\u001b[0m\u001b[1;36m42\u001b[0m\u001b[1;33m,\u001b[0m\u001b[1;36m41\u001b[0m\u001b[1;33m]\u001b[0m\u001b[1;33m\u001b[0m\u001b[0m\n\u001b[0;32m      3\u001b[0m \u001b[0mv2\u001b[0m \u001b[1;33m=\u001b[0m \u001b[1;33m[\u001b[0m\u001b[1;36m15\u001b[0m\u001b[1;33m,\u001b[0m\u001b[1;36m27\u001b[0m\u001b[1;33m,\u001b[0m\u001b[1;36m6\u001b[0m\u001b[1;33m,\u001b[0m\u001b[1;36m12\u001b[0m\u001b[1;33m,\u001b[0m\u001b[1;36m25\u001b[0m\u001b[1;33m]\u001b[0m\u001b[1;33m\u001b[0m\u001b[0m\n\u001b[1;32m----> 4\u001b[1;33m \u001b[0mbar\u001b[0m \u001b[1;33m=\u001b[0m \u001b[0mpec\u001b[0m\u001b[1;33m.\u001b[0m\u001b[0mBar\u001b[0m\u001b[1;33m(\u001b[0m\u001b[1;34m'柱状图表'\u001b[0m\u001b[1;33m,\u001b[0m\u001b[1;34m'副标题'\u001b[0m\u001b[1;33m,\u001b[0m\u001b[0mwidth\u001b[0m\u001b[1;33m=\u001b[0m\u001b[1;36m800\u001b[0m\u001b[1;33m,\u001b[0m\u001b[0mheight\u001b[0m\u001b[1;33m=\u001b[0m\u001b[1;36m800\u001b[0m\u001b[1;33m)\u001b[0m\u001b[1;33m\u001b[0m\u001b[0m\n\u001b[0m\u001b[0;32m      5\u001b[0m \u001b[0mbar\u001b[0m\u001b[1;33m.\u001b[0m\u001b[0madd\u001b[0m\u001b[1;33m(\u001b[0m\u001b[1;34m'服装A'\u001b[0m\u001b[1;33m,\u001b[0m\u001b[0mattr\u001b[0m \u001b[1;33m,\u001b[0m\u001b[0mv1\u001b[0m\u001b[1;33m,\u001b[0m\u001b[0mis_stack\u001b[0m \u001b[1;33m=\u001b[0m \u001b[1;32mTrue\u001b[0m\u001b[1;33m)\u001b[0m\u001b[1;33m\u001b[0m\u001b[0m\n\u001b[0;32m      6\u001b[0m \u001b[0mbar\u001b[0m\u001b[1;33m.\u001b[0m\u001b[0madd\u001b[0m\u001b[1;33m(\u001b[0m\u001b[1;34m'服装B'\u001b[0m\u001b[1;33m,\u001b[0m\u001b[0mattr\u001b[0m \u001b[1;33m,\u001b[0m\u001b[0mv2\u001b[0m\u001b[1;33m,\u001b[0m\u001b[0mis_stack\u001b[0m \u001b[1;33m=\u001b[0m \u001b[1;32mTrue\u001b[0m\u001b[1;33m)\u001b[0m\u001b[1;33m\u001b[0m\u001b[0m\n",
      "\u001b[1;31mAttributeError\u001b[0m: module 'pyecharts' has no attribute 'Bar'"
     ]
    }
   ],
   "source": [
    "attr = ['衬衫','羊毛衫','雪纺衫','裤子','袜子']\n",
    "v1 = [5,20,36,42,41]\n",
    "v2 = [15,27,6,12,25]\n",
    "bar = pec.Bar('柱状图表','副标题',width=800,height=800)\n",
    "bar.add('服装A',attr ,v1,is_stack = True)\n",
    "bar.add('服装B',attr ,v2,is_stack = True)\n",
    "bar.render()"
   ]
  },
  {
   "cell_type": "code",
   "execution_count": 10,
   "metadata": {},
   "outputs": [
    {
     "ename": "TypeError",
     "evalue": "__init__() takes from 1 to 2 positional arguments but 3 were given",
     "output_type": "error",
     "traceback": [
      "\u001b[1;31m---------------------------------------------------------------------------\u001b[0m",
      "\u001b[1;31mTypeError\u001b[0m                                 Traceback (most recent call last)",
      "\u001b[1;32m<ipython-input-10-779863d132be>\u001b[0m in \u001b[0;36m<module>\u001b[1;34m\u001b[0m\n\u001b[0;32m      8\u001b[0m \u001b[0mdata2\u001b[0m \u001b[1;33m=\u001b[0m \u001b[1;33m[\u001b[0m\u001b[1;36m2.6\u001b[0m\u001b[1;33m,\u001b[0m \u001b[1;36m5.9\u001b[0m\u001b[1;33m,\u001b[0m \u001b[1;36m9.0\u001b[0m\u001b[1;33m,\u001b[0m \u001b[1;36m26.4\u001b[0m\u001b[1;33m,\u001b[0m \u001b[1;36m28.7\u001b[0m\u001b[1;33m,\u001b[0m \u001b[1;36m70.7\u001b[0m\u001b[1;33m,\u001b[0m \u001b[1;36m175.6\u001b[0m\u001b[1;33m,\u001b[0m \u001b[1;36m182.2\u001b[0m\u001b[1;33m,\u001b[0m \u001b[1;36m48.7\u001b[0m\u001b[1;33m,\u001b[0m \u001b[1;36m18.8\u001b[0m\u001b[1;33m,\u001b[0m \u001b[1;36m6.0\u001b[0m\u001b[1;33m,\u001b[0m \u001b[1;36m2.3\u001b[0m\u001b[1;33m]\u001b[0m\u001b[1;33m\u001b[0m\u001b[0m\n\u001b[0;32m      9\u001b[0m \u001b[1;31m#设置柱状图的主标题与副标题\u001b[0m\u001b[1;33m\u001b[0m\u001b[1;33m\u001b[0m\u001b[0m\n\u001b[1;32m---> 10\u001b[1;33m \u001b[0mbar\u001b[0m \u001b[1;33m=\u001b[0m \u001b[0mBar\u001b[0m\u001b[1;33m(\u001b[0m\u001b[1;34m\"柱状图\"\u001b[0m\u001b[1;33m,\u001b[0m \u001b[1;34m\"一年的降水量与蒸发量\"\u001b[0m\u001b[1;33m)\u001b[0m\u001b[1;33m\u001b[0m\u001b[0m\n\u001b[0m\u001b[0;32m     11\u001b[0m \u001b[1;31m#添加柱状图的数据及配置项\u001b[0m\u001b[1;33m\u001b[0m\u001b[1;33m\u001b[0m\u001b[0m\n\u001b[0;32m     12\u001b[0m \u001b[0mbar\u001b[0m\u001b[1;33m.\u001b[0m\u001b[0madd\u001b[0m\u001b[1;33m(\u001b[0m\u001b[1;34m\"降水量\"\u001b[0m\u001b[1;33m,\u001b[0m \u001b[0mcolumns\u001b[0m\u001b[1;33m,\u001b[0m \u001b[0mdata1\u001b[0m\u001b[1;33m,\u001b[0m \u001b[0mmark_line\u001b[0m\u001b[1;33m=\u001b[0m\u001b[1;33m[\u001b[0m\u001b[1;34m\"average\"\u001b[0m\u001b[1;33m]\u001b[0m\u001b[1;33m,\u001b[0m \u001b[0mmark_point\u001b[0m\u001b[1;33m=\u001b[0m\u001b[1;33m[\u001b[0m\u001b[1;34m\"max\"\u001b[0m\u001b[1;33m,\u001b[0m \u001b[1;34m\"min\"\u001b[0m\u001b[1;33m]\u001b[0m\u001b[1;33m)\u001b[0m\u001b[1;33m\u001b[0m\u001b[0m\n",
      "\u001b[1;31mTypeError\u001b[0m: __init__() takes from 1 to 2 positional arguments but 3 were given"
     ]
    }
   ],
   "source": [
    "#导入柱状图-Bar\n",
    "#from pyecharts import Bar\n",
    "from pyecharts.charts import Bar\n",
    "#设置行名\n",
    "columns = [\"Jan\", \"Feb\", \"Mar\", \"Apr\", \"May\", \"Jun\", \"Jul\", \"Aug\", \"Sep\", \"Oct\", \"Nov\", \"Dec\"]\n",
    "#设置数据\n",
    "data1 = [2.0, 4.9, 7.0, 23.2, 25.6, 76.7, 135.6, 162.2, 32.6, 20.0, 6.4, 3.3]\n",
    "data2 = [2.6, 5.9, 9.0, 26.4, 28.7, 70.7, 175.6, 182.2, 48.7, 18.8, 6.0, 2.3]\n",
    "#设置柱状图的主标题与副标题\n",
    "bar = Bar(\"柱状图\", \"一年的降水量与蒸发量\")\n",
    "#添加柱状图的数据及配置项\n",
    "bar.add(\"降水量\", columns, data1, mark_line=[\"average\"], mark_point=[\"max\", \"min\"])\n",
    "bar.add(\"蒸发量\", columns, data2, mark_line=[\"average\"], mark_point=[\"max\", \"min\"])\n",
    "#生成本地文件（默认为.html文件）\n",
    "bar.render()"
   ]
  },
  {
   "cell_type": "code",
   "execution_count": 11,
   "metadata": {},
   "outputs": [
    {
     "ename": "ImportError",
     "evalue": "cannot import name 'Bar' from 'pyecharts' (D:\\Coding\\Anaconda3-5.3.1-Windows-x86_64\\lib\\site-packages\\pyecharts\\__init__.py)",
     "output_type": "error",
     "traceback": [
      "\u001b[1;31m---------------------------------------------------------------------------\u001b[0m",
      "\u001b[1;31mImportError\u001b[0m                               Traceback (most recent call last)",
      "\u001b[1;32m<ipython-input-11-e2aefc3a250b>\u001b[0m in \u001b[0;36m<module>\u001b[1;34m\u001b[0m\n\u001b[1;32m----> 1\u001b[1;33m \u001b[1;32mfrom\u001b[0m \u001b[0mpyecharts\u001b[0m \u001b[1;32mimport\u001b[0m \u001b[0mBar\u001b[0m\u001b[1;33m\u001b[0m\u001b[0m\n\u001b[0m",
      "\u001b[1;31mImportError\u001b[0m: cannot import name 'Bar' from 'pyecharts' (D:\\Coding\\Anaconda3-5.3.1-Windows-x86_64\\lib\\site-packages\\pyecharts\\__init__.py)"
     ]
    }
   ],
   "source": [
    "from pyecharts import Bar"
   ]
  },
  {
   "cell_type": "code",
   "execution_count": 12,
   "metadata": {},
   "outputs": [],
   "source": [
    "from pyecharts.charts import Bar"
   ]
  },
  {
   "cell_type": "code",
   "execution_count": 18,
   "metadata": {},
   "outputs": [
    {
     "ename": "AttributeError",
     "evalue": "module 'pyecharts' has no attribute 'Bar3D'",
     "output_type": "error",
     "traceback": [
      "\u001b[1;31m---------------------------------------------------------------------------\u001b[0m",
      "\u001b[1;31mAttributeError\u001b[0m                            Traceback (most recent call last)",
      "\u001b[1;32m<ipython-input-18-710066b12517>\u001b[0m in \u001b[0;36m<module>\u001b[1;34m\u001b[0m\n\u001b[0;32m      2\u001b[0m \u001b[1;32mfrom\u001b[0m \u001b[0mpyecharts\u001b[0m\u001b[1;33m.\u001b[0m\u001b[0mcharts\u001b[0m \u001b[1;32mimport\u001b[0m \u001b[0mBar3D\u001b[0m\u001b[1;33m\u001b[0m\u001b[0m\n\u001b[0;32m      3\u001b[0m \u001b[1;32mimport\u001b[0m \u001b[0mrandom\u001b[0m\u001b[1;33m\u001b[0m\u001b[0m\n\u001b[1;32m----> 4\u001b[1;33m \u001b[0mbar3D\u001b[0m \u001b[1;33m=\u001b[0m \u001b[0mpec\u001b[0m\u001b[1;33m.\u001b[0m\u001b[0mBar3D\u001b[0m\u001b[1;33m(\u001b[0m\u001b[1;34m'变化3D图表'\u001b[0m\u001b[1;33m,\u001b[0m\u001b[1;34m'窗口滑块效果图'\u001b[0m\u001b[1;33m,\u001b[0m\u001b[0mwidth\u001b[0m\u001b[1;33m=\u001b[0m\u001b[1;36m1200\u001b[0m\u001b[1;33m,\u001b[0m\u001b[0mheight\u001b[0m\u001b[1;33m=\u001b[0m\u001b[1;36m600\u001b[0m\u001b[1;33m)\u001b[0m\u001b[1;33m\u001b[0m\u001b[0m\n\u001b[0m\u001b[0;32m      5\u001b[0m \u001b[1;31m#创建X轴和Y轴标签\u001b[0m\u001b[1;33m\u001b[0m\u001b[1;33m\u001b[0m\u001b[0m\n\u001b[0;32m      6\u001b[0m x_axis = [\"Saturday\",\"Friday\",\"Thursday\",\"Wednesday\",\"Tuesday\",\"Monday\",\"Sunday\"\n",
      "\u001b[1;31mAttributeError\u001b[0m: module 'pyecharts' has no attribute 'Bar3D'"
     ]
    }
   ],
   "source": [
    "import pyecharts as pec \n",
    "from pyecharts.charts import Bar3D\n",
    "import random\n",
    "bar3D = pec.Bar3D('变化3D图表','窗口滑块效果图',width=1200,height=600)\n",
    "#创建X轴和Y轴标签\n",
    "x_axis = [\"Saturday\",\"Friday\",\"Thursday\",\"Wednesday\",\"Tuesday\",\"Monday\",\"Sunday\"\n",
    "\t]\n",
    "\t# \"12a\",\"1a\",\"2a\",\"3a\",\"4a\",\"5a\",\"6a\",\"7a\",\"8a\",\n",
    "y_axis = [\"25p\",\"1p\",\"2p\",\"3p\",\"4p\",\"5p\",\"6p\",\"7p\",\"8p\",\"9p\",\"10p\",\n",
    "\t\t\"11p\",\"12p\",\"13p\",\"14p\",\"15p\",\"16p\",\"17p\",\"18p\",\"19p\",\"20p\",\n",
    "\t\t\"21p\",\"22p\",\"23p\",\"24p\"]\n",
    "#创建数据\n",
    "#数据格式： 一个列表，每一项都是一个三个元素组成的列表 [X坐标, Y坐标, Z轴高度]\n",
    "data = [\n",
    "\t\t[0, 0, 5], [0, 1, 1], [0, 2, 0], [0, 3, 0], [0, 4, 0], [0, 5, 0],\n",
    "\t\t[0, 6, 0], [0, 7, 0], [0, 8, 0], [0, 9, 0], [0, 10, 0], [0, 11, 2],\n",
    "\t\t[0, 12, 4], [0, 13, 1], [0, 14, 1], [0, 15, 3], [0, 16, 4], [0, 17, 6],\n",
    "\t\t[0, 18, 4], [0, 19, 4], [0, 20, 3], [0, 21, 3], [0, 22, 2], [0, 23, 5],\n",
    "\t\t[1, 0, 7], [1, 1, 0], [1, 2, 0], [1, 3, 0], [1, 4, 0], [1, 5, 0],\n",
    "\t\t[1, 6, 0], [1, 7, 0], [1, 8, 0], [1, 9, 0], [1, 10, 5], [1, 11, 2],\n",
    "\t\t[1, 12, 2], [1, 13, 6], [1, 14, 9], [1, 15, 11], [1, 16, 6], [1, 17, 7],\n",
    "\t\t[1, 18, 8], [1, 19, 12], [1, 20, 5], [1, 21, 5], [1, 22, 7], [1, 23, 2],\n",
    "\t\t[2, 0, 1], [2, 1, 1], [2, 2, 0], [2, 3, 0], [2, 4, 0], [2, 5, 0],\n",
    "\t\t[2, 6, 0], [2, 7, 0], [2, 8, 0], [2, 9, 0], [2, 10, 3], [2, 11, 2],\n",
    "\t\t[2, 12, 1], [2, 13, 9], [2, 14, 8], [2, 15, 10], [2, 16, 6], [2, 17, 5],\n",
    "\t\t[2, 18, 5], [2, 19, 5], [2, 20, 7], [2, 21, 4], [2, 22, 2], [2, 23, 4],\n",
    "\t\t[3, 0, 7], [3, 1, 3], [3, 2, 0], [3, 3, 0], [3, 4, 0], [3, 5, 0],\n",
    "\t\t[3, 6, 0], [3, 7, 0], [3, 8, 1], [3, 9, 0], [3, 10, 5], [3, 11, 4],\n",
    "\t\t[3, 12, 7], [3, 13, 14], [3, 14, 13], [3, 15, 12], [3, 16, 9], [3, 17, 5],\n",
    "\t\t[3, 18, 5], [3, 19, 10], [3, 20, 6], [3, 21, 4], [3, 22, 4], [3, 23, 1],\n",
    "\t\t[4, 0, 1], [4, 1, 3], [4, 2, 0], [4, 3, 0], [4, 4, 0], [4, 5, 1],\n",
    "\t\t[4, 6, 0], [4, 7, 0], [4, 8, 0], [4, 9, 2], [4, 10, 4], [4, 11, 4],\n",
    "\t\t[4, 12, 2], [4, 13, 4], [4, 14, 4], [4, 15, 14], [4, 16, 12], [4, 17, 1],\n",
    "\t\t[4, 18, 8], [4, 19, 5], [4, 20, 3], [4, 21, 7], [4, 22, 3], [4, 23, 0],\n",
    "\t\t[5, 0, 2], [5, 1, 1], [5, 2, 0], [5, 3, 3], [5, 4, 0], [5, 5, 0],\n",
    "\t\t[5, 6, 0], [5, 7, 0], [5, 8, 2], [5, 9, 0], [5, 10, 4], [5, 11, 1],\n",
    "\t\t[5, 12, 5], [5, 13, 10], [5, 14, 5], [5, 15, 7], [5, 16, 11], [5, 17, 6],\n",
    "\t\t[5, 18, 0], [5, 19, 5], [5, 20, 3], [5, 21, 4], [5, 22, 2], [5, 23, 0],\n",
    "\t\t[6, 0, 1], [6, 1, 0], [6, 2, 0], [6, 3, 0], [6, 4, 0], [6, 5, 0],\n",
    "\t\t[6, 6, 0], [6, 7, 0], [6, 8, 0], [6, 9, 0], [6, 10, 1], [6, 11, 0],\n",
    "\t\t[6, 12, 2], [6, 13, 1], [6, 14, 3], [6, 15, 4], [6, 16, 0], [6, 17, 0],\n",
    "\t\t[6, 18, 0], [6, 19, 0], [6, 20, 1], [6, 21, 2], [6, 22, 2], [6, 23, 6]]\n",
    "#创建自定义的过渡颜色\n",
    "range_color = [\"#c23531\",\"#2f4554\",\"#61a0a8\",\"#d48265\",\"#749f83\",\"#ca8622\",\"#bda29a\",\"#6e7074\",\n",
    "\t\t\t   \"#546570\",\"#c4ccd3\",\"#f05b72\",\"#ef5b9c\",\"#f47920\",\"#905a3d\",\"#fab27b\",\"#2a5caa\",\n",
    "\t\t\t   \"#444693\",\"#726930\",\"#b2d235\",\"#6d8346\",\"#ac6767\",\"#1d953f\",\"#6950a1\",\"#918597\",\"#f6f5ec\"]\n",
    "#添加图表并渲染\n",
    "#is_visualmap： 是否使用视觉映射组件\n",
    "#visual_range： 允许的最小值与最大值\n",
    "#visual_range_color： 自定义的过渡颜色\n",
    "#grid3d_width： 图表格子X轴方向宽度\n",
    "#grid3d_depth： 图表格子深度\n",
    "bar3D.add('A城',x_axis,y_axis,data,visual_range_color=range_color,grid3d_width=200,grid3d_depth=90,is_visualmap=True,visual_range=[0,40])#添加平均值的线\n",
    "bar3D.render()"
   ]
  },
  {
   "cell_type": "code",
   "execution_count": 31,
   "metadata": {},
   "outputs": [
    {
     "ename": "ImportError",
     "evalue": "cannot import name 'worldcloud' from 'pyecharts' (D:\\Coding\\Anaconda3-5.3.1-Windows-x86_64\\lib\\site-packages\\pyecharts\\__init__.py)",
     "output_type": "error",
     "traceback": [
      "\u001b[1;31m---------------------------------------------------------------------------\u001b[0m",
      "\u001b[1;31mImportError\u001b[0m                               Traceback (most recent call last)",
      "\u001b[1;32m<ipython-input-31-1c92a5edd406>\u001b[0m in \u001b[0;36m<module>\u001b[1;34m\u001b[0m\n\u001b[0;32m      1\u001b[0m \u001b[1;32mimport\u001b[0m \u001b[0mpyecharts\u001b[0m \u001b[1;32mas\u001b[0m \u001b[0mpec\u001b[0m\u001b[1;33m\u001b[0m\u001b[0m\n\u001b[1;32m----> 2\u001b[1;33m \u001b[1;32mfrom\u001b[0m \u001b[0mpyecharts\u001b[0m \u001b[1;32mimport\u001b[0m \u001b[0mworldcloud\u001b[0m\u001b[1;33m\u001b[0m\u001b[0m\n\u001b[0m\u001b[0;32m      3\u001b[0m \u001b[0mname\u001b[0m\u001b[1;33m=\u001b[0m\u001b[1;33m[\u001b[0m\u001b[1;34m'气凌霄汉'\u001b[0m\u001b[1;33m,\u001b[0m\u001b[1;34m'头昏脑眩'\u001b[0m\u001b[1;33m,\u001b[0m\u001b[1;34m'毫无疑义'\u001b[0m\u001b[1;33m,\u001b[0m\u001b[1;34m'陌上桑间'\u001b[0m\u001b[1;33m,\u001b[0m\u001b[1;34m'金革之难'\u001b[0m\u001b[1;33m,\u001b[0m\u001b[1;34m'欲说还休'\u001b[0m\u001b[1;33m,\u001b[0m\u001b[1;34m'安枕而卧'\u001b[0m\u001b[1;33m,\u001b[0m\u001b[1;34m'礼先一饭'\u001b[0m\u001b[1;33m,\u001b[0m\u001b[1;34m'一面之荣'\u001b[0m\u001b[1;33m,\u001b[0m\u001b[1;34m'舍近求远'\u001b[0m\u001b[1;33m,\u001b[0m\u001b[1;34m'触类而通'\u001b[0m\u001b[1;33m,\u001b[0m\u001b[1;34m'风烛残年'\u001b[0m\u001b[1;33m,\u001b[0m\u001b[1;34m'不逢不若'\u001b[0m\u001b[1;33m,\u001b[0m\u001b[1;34m'中馈之思'\u001b[0m\u001b[1;33m,\u001b[0m\u001b[1;34m'韦弦之佩'\u001b[0m\u001b[1;33m,\u001b[0m\u001b[1;34m'不瘟不火'\u001b[0m\u001b[1;33m,\u001b[0m\u001b[1;34m'裂土分茅'\u001b[0m\u001b[1;33m,\u001b[0m\u001b[1;34m'德言容功'\u001b[0m\u001b[1;33m,\u001b[0m\u001b[1;34m'一技之微'\u001b[0m\u001b[1;33m,\u001b[0m\u001b[1;34m'日月其除'\u001b[0m\u001b[1;33m,\u001b[0m\u001b[1;34m'朋党比周'\u001b[0m\u001b[1;33m,\u001b[0m\u001b[1;34m'赤绳绾足'\u001b[0m\u001b[1;33m,\u001b[0m\u001b[1;34m'铮铮铁汉'\u001b[0m\u001b[1;33m,\u001b[0m\u001b[1;34m'琼楼金阙'\u001b[0m\u001b[1;33m,\u001b[0m\u001b[1;34m'出于意外'\u001b[0m\u001b[1;33m,\u001b[0m\u001b[1;34m'不为戎首'\u001b[0m\u001b[1;33m]\u001b[0m\u001b[1;33m\u001b[0m\u001b[0m\n\u001b[0;32m      4\u001b[0m \u001b[0mvalue\u001b[0m \u001b[1;33m=\u001b[0m \u001b[1;33m[\u001b[0m\u001b[1;34m'200'\u001b[0m\u001b[1;33m,\u001b[0m\u001b[1;34m'412'\u001b[0m\u001b[1;33m,\u001b[0m\u001b[1;34m'160'\u001b[0m\u001b[1;33m,\u001b[0m\u001b[1;34m'520'\u001b[0m\u001b[1;33m,\u001b[0m\u001b[1;34m'121'\u001b[0m\u001b[1;33m,\u001b[0m\u001b[1;34m'336'\u001b[0m\u001b[1;33m,\u001b[0m\u001b[1;34m'480'\u001b[0m\u001b[1;33m,\u001b[0m\u001b[1;34m'1000'\u001b[0m\u001b[1;33m,\u001b[0m\u001b[1;34m'361'\u001b[0m\u001b[1;33m,\u001b[0m\u001b[1;34m'562'\u001b[0m\u001b[1;33m,\u001b[0m\u001b[1;34m'63'\u001b[0m\u001b[1;33m,\u001b[0m\u001b[1;34m'24'\u001b[0m\u001b[1;33m,\u001b[0m\u001b[1;34m'264'\u001b[0m\u001b[1;33m,\u001b[0m\u001b[1;34m'451'\u001b[0m\u001b[1;33m,\u001b[0m\u001b[1;34m'666'\u001b[0m\u001b[1;33m,\u001b[0m\u001b[1;34m'120'\u001b[0m\u001b[1;33m,\u001b[0m\u001b[1;34m'452'\u001b[0m\u001b[1;33m,\u001b[0m\u001b[1;34m'325'\u001b[0m\u001b[1;33m,\u001b[0m\u001b[1;34m'479'\u001b[0m\u001b[1;33m,\u001b[0m\u001b[1;34m'965'\u001b[0m\u001b[1;33m,\u001b[0m\u001b[1;34m'765'\u001b[0m\u001b[1;33m,\u001b[0m\u001b[1;34m'258'\u001b[0m\u001b[1;33m,\u001b[0m\u001b[1;34m'23'\u001b[0m\u001b[1;33m,\u001b[0m\u001b[1;34m'521'\u001b[0m\u001b[1;33m,\u001b[0m\u001b[1;34m'9'\u001b[0m\u001b[1;33m,\u001b[0m\u001b[1;34m'4545'\u001b[0m\u001b[1;33m]\u001b[0m\u001b[1;33m\u001b[0m\u001b[0m\n\u001b[0;32m      5\u001b[0m \u001b[0mworldcloud\u001b[0m \u001b[1;33m=\u001b[0m \u001b[0mpec\u001b[0m\u001b[1;33m.\u001b[0m\u001b[0mWordCloud\u001b[0m\u001b[1;33m(\u001b[0m\u001b[1;34m\"动态图示例\"\u001b[0m\u001b[1;33m,\u001b[0m\u001b[0mwidth\u001b[0m\u001b[1;33m=\u001b[0m\u001b[1;36m1300\u001b[0m\u001b[1;33m,\u001b[0m\u001b[0mheight\u001b[0m\u001b[1;33m=\u001b[0m\u001b[1;36m620\u001b[0m\u001b[1;33m)\u001b[0m\u001b[1;33m\u001b[0m\u001b[0m\n",
      "\u001b[1;31mImportError\u001b[0m: cannot import name 'worldcloud' from 'pyecharts' (D:\\Coding\\Anaconda3-5.3.1-Windows-x86_64\\lib\\site-packages\\pyecharts\\__init__.py)"
     ]
    }
   ],
   "source": [
    "import pyecharts as pec\n",
    "from pyecharts import worldcloud\n",
    "name=['气凌霄汉','头昏脑眩','毫无疑义','陌上桑间','金革之难','欲说还休','安枕而卧','礼先一饭','一面之荣','舍近求远','触类而通','风烛残年','不逢不若','中馈之思','韦弦之佩','不瘟不火','裂土分茅','德言容功','一技之微','日月其除','朋党比周','赤绳绾足','铮铮铁汉','琼楼金阙','出于意外','不为戎首']\n",
    "value = ['200','412','160','520','121','336','480','1000','361','562','63','24','264','451','666','120','452','325','479','965','765','258','23','521','9','4545']\n",
    "worldcloud = pec.WordCloud(\"动态图示例\",width=1300,height=620)\n",
    "worldcloud.add(\"WordCloud\",name,value,word_size_range=[20,100])\n",
    "worldcloud.render()"
   ]
  },
  {
   "cell_type": "code",
   "execution_count": null,
   "metadata": {},
   "outputs": [],
   "source": []
  }
 ],
 "metadata": {
  "kernelspec": {
   "display_name": "Python 3",
   "language": "python",
   "name": "python3"
  },
  "language_info": {
   "codemirror_mode": {
    "name": "ipython",
    "version": 3
   },
   "file_extension": ".py",
   "mimetype": "text/x-python",
   "name": "python",
   "nbconvert_exporter": "python",
   "pygments_lexer": "ipython3",
   "version": "3.7.0"
  }
 },
 "nbformat": 4,
 "nbformat_minor": 4
}
