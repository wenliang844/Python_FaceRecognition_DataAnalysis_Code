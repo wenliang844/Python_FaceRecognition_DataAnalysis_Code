{
 "cells": [
  {
   "cell_type": "code",
   "execution_count": 7,
   "metadata": {},
   "outputs": [],
   "source": [
    "import numpy as np\n",
    "import matplotlib.pyplot as plt\n",
    "from sklearn.linear_model import LinearRegression #红色是提醒 正常\n",
    "\n"
   ]
  },
  {
   "cell_type": "code",
   "execution_count": 8,
   "metadata": {},
   "outputs": [],
   "source": [
    "X = np.linspace(2.5,12,25)\n",
    "w = np.random.randint(2,10,size = 1)[0]\n",
    "b = np.random.randint(-5,5,size = 1)[0]\n",
    "y = X*w + b + np.random.randn(25)*2"
   ]
  },
  {
   "cell_type": "code",
   "execution_count": 9,
   "metadata": {},
   "outputs": [
    {
     "data": {
      "text/plain": [
       "<matplotlib.collections.PathCollection at 0x1354bb5de80>"
      ]
     },
     "execution_count": 9,
     "metadata": {},
     "output_type": "execute_result"
    },
    {
     "data": {
      "image/png": "[encoded data removed]",
      "text/plain": [
       "<Figure size 432x288 with 1 Axes>"
      ]
     },
     "metadata": {
      "needs_background": "light"
     },
     "output_type": "display_data"
    }
   ],
   "source": [
    "plt.scatter(X,y) #X ,y之间有一定的规律\n"
   ]
  },
  {
   "cell_type": "code",
   "execution_count": 10,
   "metadata": {},
   "outputs": [
    {
     "data": {
      "text/plain": [
       "LinearRegression(copy_X=True, fit_intercept=True, n_jobs=None,\n",
       "         normalize=False)"
      ]
     },
     "execution_count": 10,
     "metadata": {},
     "output_type": "execute_result"
    }
   ],
   "source": [
    "lr = LinearRegression()\n",
    "\n",
    "lr.fit(X.reshape(-1,1),y)#X数据要二维的"
   ]
  },
  {
   "cell_type": "code",
   "execution_count": 11,
   "metadata": {},
   "outputs": [
    {
     "data": {
      "text/plain": [
       "array([3.82584152])"
      ]
     },
     "execution_count": 11,
     "metadata": {},
     "output_type": "execute_result"
    }
   ],
   "source": [
    "lr.coef_"
   ]
  },
  {
   "cell_type": "code",
   "execution_count": 12,
   "metadata": {},
   "outputs": [
    {
     "data": {
      "text/plain": [
       "-0.7769185402768173"
      ]
     },
     "execution_count": 12,
     "metadata": {},
     "output_type": "execute_result"
    }
   ],
   "source": [
    "lr.intercept_"
   ]
  },
  {
   "cell_type": "code",
   "execution_count": 13,
   "metadata": {},
   "outputs": [
    {
     "data": {
      "text/plain": [
       "4"
      ]
     },
     "execution_count": 13,
     "metadata": {},
     "output_type": "execute_result"
    }
   ],
   "source": [
    "w"
   ]
  },
  {
   "cell_type": "code",
   "execution_count": 14,
   "metadata": {},
   "outputs": [
    {
     "data": {
      "text/plain": [
       "-2"
      ]
     },
     "execution_count": 14,
     "metadata": {},
     "output_type": "execute_result"
    }
   ],
   "source": [
    "b"
   ]
  },
  {
   "cell_type": "code",
   "execution_count": 15,
   "metadata": {},
   "outputs": [],
   "source": [
    "#求解斜率:LinearRegression使用的是梯度下降"
   ]
  },
  {
   "cell_type": "code",
   "execution_count": 16,
   "metadata": {},
   "outputs": [],
   "source": [
    "#类,求解 斜率,截距\n",
    "class Linear_mode(object):\n",
    "    def __init__(self):\n",
    "        self.w = np.random.randn(1)[0]\n",
    "        self.b = np.random.randn(1)[0]\n",
    "        print('---起始斜率和截距--------',self.w,self.b)\n",
    "    #model就是方程 f(x) = wx + b \n",
    "    def model(self,x):\n",
    "        return self.w*x+self.b\n",
    "    #损失,原理最小二乘法\n",
    "    def loss(self,x,y):\n",
    "        #方程中有几个未知数??? \n",
    "        cost = (y-self.model(x))**2\n",
    "        #偏导数\n",
    "        #导数是偏导数的一种特殊形式,只有一个未知数的时候\n",
    "        #求偏导数:其他的都是已知数,求一个未知数的导数\n",
    "        g_w = 2*(y-self.model(x))*(-x)\n",
    "        g_b = 2*(y-self.model(x))*(-1)\n",
    "        return g_w,g_b\n",
    "    \n",
    "    #梯度下降\n",
    "    def gradient_desend(self,g_w,g_b,step = 0.01):\n",
    "        #更新新的斜率和截距\n",
    "        self.w = self.w - g_w*step\n",
    "        self.b = self.b - g_b*step\n",
    "        \n",
    "    def fit(self,X,y):\n",
    "        w_last = self.w + 1 #上一步的值 加多少都行\n",
    "        b_last = self.b + 1\n",
    "        \n",
    "        precision = 0.00001\n",
    "        max_count = 3000\n",
    "        \n",
    "        count=0\n",
    "        while True:\n",
    "            if (np.abs(self.w - w_last) < precision) and (np.abs(self.b-b_last) < precision):\n",
    "                break\n",
    "            if count > max_count:\n",
    "                break\n",
    "                \n",
    "            #更新斜率,截距\n",
    "            g_w = 0\n",
    "            g_b = 0\n",
    "            size = X.shape[0]\n",
    "            for xi,yj in zip(X,y): #zip:从x去一个 y去一个\n",
    "                g_w += self.loss(xi,yj)[0]/size\n",
    "                g_b += self.loss(xi,yj)[1]/size\n",
    "            \n",
    "            self.gradient_desend(g_w,g_b)\n",
    "            count += 1;\n",
    "        def coef_(self):\n",
    "            return self.w\n",
    "        def intercept_(self):\n",
    "            return self.b"
   ]
  },
  {
   "cell_type": "code",
   "execution_count": 17,
   "metadata": {},
   "outputs": [
    {
     "name": "stdout",
     "output_type": "stream",
     "text": [
      "---起始斜率和截距-------- -0.20721692702246 0.05633543260100061\n"
     ]
    }
   ],
   "source": [
    "im = Linear_mode()"
   ]
  },
  {
   "cell_type": "code",
   "execution_count": 18,
   "metadata": {},
   "outputs": [
    {
     "data": {
      "text/plain": [
       "array([0.97977957, 0.30704925])"
      ]
     },
     "execution_count": 18,
     "metadata": {},
     "output_type": "execute_result"
    }
   ],
   "source": [
    "m = np.random.rand(2)\n",
    "m"
   ]
  },
  {
   "cell_type": "code",
   "execution_count": 19,
   "metadata": {},
   "outputs": [
    {
     "data": {
      "text/plain": [
       "array([4, 6, 3, 1])"
      ]
     },
     "execution_count": 19,
     "metadata": {},
     "output_type": "execute_result"
    }
   ],
   "source": [
    "n=np.random.randint(1,7,4)\n",
    "n"
   ]
  },
  {
   "cell_type": "code",
   "execution_count": 22,
   "metadata": {
    "scrolled": false
   },
   "outputs": [],
   "source": [
    "im.fit(X,y)\n"
   ]
  },
  {
   "cell_type": "code",
   "execution_count": null,
   "metadata": {},
   "outputs": [],
   "source": []
  }
 ],
 "metadata": {
  "kernelspec": {
   "display_name": "Python 3",
   "language": "python",
   "name": "python3"
  },
  "language_info": {
   "codemirror_mode": {
    "name": "ipython",
    "version": 3
   },
   "file_extension": ".py",
   "mimetype": "text/x-python",
   "name": "python",
   "nbconvert_exporter": "python",
   "pygments_lexer": "ipython3",
   "version": "3.7.0"
  }
 },
 "nbformat": 4,
 "nbformat_minor": 4
}
