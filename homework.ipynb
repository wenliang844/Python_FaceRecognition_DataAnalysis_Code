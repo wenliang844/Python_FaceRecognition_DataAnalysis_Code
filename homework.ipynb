{
 "cells": [
  {
   "cell_type": "code",
   "execution_count": 1,
   "metadata": {},
   "outputs": [],
   "source": [
    "import numpy as np"
   ]
  },
  {
   "cell_type": "code",
   "execution_count": 3,
   "metadata": {},
   "outputs": [
    {
     "data": {
      "text/plain": [
       "array([[0, 0, 0, 0, 0, 0, 0, 0, 0, 0],\n",
       "       [0, 0, 0, 0, 0, 0, 0, 0, 0, 0],\n",
       "       [0, 0, 0, 0, 0, 0, 0, 0, 0, 0],\n",
       "       [0, 0, 0, 0, 0, 0, 0, 0, 0, 0],\n",
       "       [0, 0, 0, 0, 0, 0, 0, 0, 0, 0],\n",
       "       [0, 0, 0, 0, 0, 0, 0, 0, 0, 0],\n",
       "       [0, 0, 0, 0, 0, 0, 0, 0, 0, 0],\n",
       "       [0, 0, 0, 0, 0, 0, 0, 0, 0, 0],\n",
       "       [0, 0, 0, 0, 0, 0, 0, 0, 0, 0],\n",
       "       [0, 0, 0, 0, 0, 0, 0, 0, 0, 0]], dtype=int8)"
      ]
     },
     "execution_count": 3,
     "metadata": {},
     "output_type": "execute_result"
    }
   ],
   "source": [
    "nd1 = np.zeros(shape = (10,10),dtype=np.int8)\n",
    "nd1"
   ]
  },
  {
   "cell_type": "code",
   "execution_count": 4,
   "metadata": {},
   "outputs": [],
   "source": [
    "nd1[[0,-1]]=1"
   ]
  },
  {
   "cell_type": "code",
   "execution_count": 5,
   "metadata": {
    "scrolled": true
   },
   "outputs": [
    {
     "data": {
      "text/plain": [
       "array([[1, 1, 1, 1, 1, 1, 1, 1, 1, 1],\n",
       "       [0, 0, 0, 0, 0, 0, 0, 0, 0, 0],\n",
       "       [0, 0, 0, 0, 0, 0, 0, 0, 0, 0],\n",
       "       [0, 0, 0, 0, 0, 0, 0, 0, 0, 0],\n",
       "       [0, 0, 0, 0, 0, 0, 0, 0, 0, 0],\n",
       "       [0, 0, 0, 0, 0, 0, 0, 0, 0, 0],\n",
       "       [0, 0, 0, 0, 0, 0, 0, 0, 0, 0],\n",
       "       [0, 0, 0, 0, 0, 0, 0, 0, 0, 0],\n",
       "       [0, 0, 0, 0, 0, 0, 0, 0, 0, 0],\n",
       "       [1, 1, 1, 1, 1, 1, 1, 1, 1, 1]], dtype=int8)"
      ]
     },
     "execution_count": 5,
     "metadata": {},
     "output_type": "execute_result"
    }
   ],
   "source": [
    "nd1"
   ]
  },
  {
   "cell_type": "code",
   "execution_count": 6,
   "metadata": {},
   "outputs": [
    {
     "data": {
      "text/plain": [
       "array([[1, 1, 1, 1, 1, 1, 1, 1, 1, 1],\n",
       "       [1, 0, 0, 0, 0, 0, 0, 0, 0, 1],\n",
       "       [1, 0, 0, 0, 0, 0, 0, 0, 0, 1],\n",
       "       [1, 0, 0, 0, 0, 0, 0, 0, 0, 1],\n",
       "       [1, 0, 0, 0, 0, 0, 0, 0, 0, 1],\n",
       "       [1, 0, 0, 0, 0, 0, 0, 0, 0, 1],\n",
       "       [1, 0, 0, 0, 0, 0, 0, 0, 0, 1],\n",
       "       [1, 0, 0, 0, 0, 0, 0, 0, 0, 1],\n",
       "       [1, 0, 0, 0, 0, 0, 0, 0, 0, 1],\n",
       "       [1, 1, 1, 1, 1, 1, 1, 1, 1, 1]], dtype=int8)"
      ]
     },
     "execution_count": 6,
     "metadata": {},
     "output_type": "execute_result"
    }
   ],
   "source": [
    "nd1[:,[0,-1]]=1\n",
    "nd1"
   ]
  },
  {
   "cell_type": "code",
   "execution_count": 7,
   "metadata": {},
   "outputs": [
    {
     "data": {
      "text/plain": [
       "array([[0, 1, 2, 3, 4],\n",
       "       [0, 1, 2, 3, 4],\n",
       "       [0, 1, 2, 3, 4],\n",
       "       [0, 1, 2, 3, 4],\n",
       "       [0, 1, 2, 3, 4]])"
      ]
     },
     "execution_count": 7,
     "metadata": {},
     "output_type": "execute_result"
    }
   ],
   "source": [
    "np.array([0,1,2,3,4]*5).reshape(5,5)"
   ]
  },
  {
   "cell_type": "code",
   "execution_count": 8,
   "metadata": {},
   "outputs": [
    {
     "data": {
      "text/plain": [
       "array([6, 9, 3, 4, 3, 8, 8, 4, 4, 6])"
      ]
     },
     "execution_count": 8,
     "metadata": {},
     "output_type": "execute_result"
    }
   ],
   "source": [
    "nd2 = np.random.randint(1,10,size=10)\n",
    "nd2"
   ]
  },
  {
   "cell_type": "code",
   "execution_count": 10,
   "metadata": {},
   "outputs": [
    {
     "data": {
      "text/plain": [
       "array([9])"
      ]
     },
     "execution_count": 10,
     "metadata": {},
     "output_type": "execute_result"
    }
   ],
   "source": [
    "v_max =nd2.max()\n",
    "cond = nd2 == v_max\n",
    "nd2[cond]"
   ]
  },
  {
   "cell_type": "code",
   "execution_count": 11,
   "metadata": {},
   "outputs": [
    {
     "data": {
      "text/plain": [
       "array([False,  True, False, False, False, False, False, False, False,\n",
       "       False])"
      ]
     },
     "execution_count": 11,
     "metadata": {},
     "output_type": "execute_result"
    }
   ],
   "source": [
    "nd2 == v_max"
   ]
  },
  {
   "cell_type": "code",
   "execution_count": 14,
   "metadata": {},
   "outputs": [
    {
     "data": {
      "text/plain": [
       "array([   6,    9, 1024,    4, 1024,    8,    8,    4,    4,    6])"
      ]
     },
     "execution_count": 14,
     "metadata": {},
     "output_type": "execute_result"
    }
   ],
   "source": [
    "v_min = nd2.min()\n",
    "index = np.argwhere(nd2 == v_min)\n",
    "index\n",
    "for i in index:\n",
    "    nd2[i[0]] = 1024\n",
    "nd2"
   ]
  },
  {
   "cell_type": "code",
   "execution_count": 16,
   "metadata": {},
   "outputs": [
    {
     "data": {
      "text/plain": [
       "array([[ 97,  85,  49, 104,  84],\n",
       "       [102,  47,  99, 123,  67],\n",
       "       [133, 131,  87,  41,   2],\n",
       "       [ 61, 141,  49, 134, 110],\n",
       "       [ 70,  42, 137,  48, 134]])"
      ]
     },
     "execution_count": 16,
     "metadata": {},
     "output_type": "execute_result"
    }
   ],
   "source": [
    "nd3 = np.random.randint(0,150,size=(5,5))\n",
    "nd3"
   ]
  },
  {
   "cell_type": "code",
   "execution_count": 17,
   "metadata": {},
   "outputs": [
    {
     "data": {
      "text/plain": [
       "array([[102,  47,  99, 123,  67],\n",
       "       [ 61, 141,  49, 134, 110],\n",
       "       [133, 131,  87,  41,   2],\n",
       "       [ 97,  85,  49, 104,  84],\n",
       "       [ 70,  42, 137,  48, 134]])"
      ]
     },
     "execution_count": 17,
     "metadata": {},
     "output_type": "execute_result"
    }
   ],
   "source": [
    "index = [1,3,2,0,4]\n",
    "\n",
    "nd3[index]"
   ]
  },
  {
   "cell_type": "code",
   "execution_count": 21,
   "metadata": {},
   "outputs": [
    {
     "data": {
      "text/plain": [
       "array([[ 97,  85,  49, 104,  84],\n",
       "       [ 61, 141,  49, 134, 110],\n",
       "       [133, 131,  87,  41,   2],\n",
       "       [102,  47,  99, 123,  67],\n",
       "       [ 70,  42, 137,  48, 134]])"
      ]
     },
     "execution_count": 21,
     "metadata": {},
     "output_type": "execute_result"
    }
   ],
   "source": [
    "#数据多的时候代码解决\n",
    "index = nd3[:,2].argsort()\n",
    "nd3[index]"
   ]
  },
  {
   "cell_type": "code",
   "execution_count": 22,
   "metadata": {
    "collapsed": true
   },
   "outputs": [
    {
     "data": {
      "text/plain": [
       "array([[[[8, 3, 2, 8, 3, 5],\n",
       "         [1, 0, 1, 3, 6, 7],\n",
       "         [9, 7, 5, 3, 4, 6],\n",
       "         [4, 1, 3, 2, 4, 6],\n",
       "         [6, 1, 8, 7, 3, 5]],\n",
       "\n",
       "        [[9, 4, 5, 8, 8, 0],\n",
       "         [1, 8, 1, 4, 7, 4],\n",
       "         [3, 7, 3, 0, 4, 1],\n",
       "         [2, 9, 2, 8, 4, 3],\n",
       "         [7, 9, 5, 0, 0, 6]],\n",
       "\n",
       "        [[6, 9, 5, 6, 8, 6],\n",
       "         [9, 9, 3, 3, 8, 0],\n",
       "         [2, 1, 1, 2, 4, 1],\n",
       "         [9, 2, 8, 2, 6, 3],\n",
       "         [9, 5, 6, 0, 1, 3]],\n",
       "\n",
       "        [[1, 9, 3, 1, 1, 1],\n",
       "         [9, 9, 4, 5, 6, 6],\n",
       "         [8, 7, 0, 5, 8, 9],\n",
       "         [2, 6, 6, 9, 9, 4],\n",
       "         [7, 9, 1, 8, 0, 6]]],\n",
       "\n",
       "\n",
       "       [[[4, 0, 3, 6, 6, 6],\n",
       "         [4, 0, 9, 0, 3, 4],\n",
       "         [8, 5, 3, 3, 7, 6],\n",
       "         [3, 1, 4, 7, 8, 3],\n",
       "         [2, 4, 8, 7, 0, 6]],\n",
       "\n",
       "        [[8, 6, 6, 8, 9, 6],\n",
       "         [3, 9, 6, 8, 1, 9],\n",
       "         [0, 3, 1, 6, 9, 9],\n",
       "         [1, 3, 7, 0, 3, 5],\n",
       "         [6, 4, 1, 7, 6, 9]],\n",
       "\n",
       "        [[0, 9, 8, 4, 1, 3],\n",
       "         [2, 5, 0, 1, 0, 2],\n",
       "         [7, 9, 3, 2, 2, 0],\n",
       "         [3, 4, 5, 9, 5, 6],\n",
       "         [6, 6, 7, 8, 0, 7]],\n",
       "\n",
       "        [[7, 0, 8, 2, 7, 6],\n",
       "         [1, 7, 3, 3, 4, 8],\n",
       "         [3, 0, 3, 4, 2, 3],\n",
       "         [8, 0, 9, 5, 0, 0],\n",
       "         [4, 6, 6, 7, 2, 4]]],\n",
       "\n",
       "\n",
       "       [[[8, 3, 9, 9, 3, 0],\n",
       "         [5, 8, 6, 0, 5, 4],\n",
       "         [3, 2, 7, 1, 1, 4],\n",
       "         [2, 3, 8, 3, 3, 8],\n",
       "         [5, 2, 8, 5, 6, 7]],\n",
       "\n",
       "        [[5, 8, 6, 6, 7, 4],\n",
       "         [8, 1, 3, 7, 2, 3],\n",
       "         [2, 8, 9, 7, 2, 0],\n",
       "         [4, 4, 2, 4, 7, 5],\n",
       "         [3, 5, 2, 1, 9, 6]],\n",
       "\n",
       "        [[7, 4, 1, 7, 2, 8],\n",
       "         [6, 1, 8, 4, 1, 9],\n",
       "         [7, 5, 9, 2, 8, 2],\n",
       "         [7, 4, 0, 5, 0, 1],\n",
       "         [8, 5, 0, 8, 8, 6]],\n",
       "\n",
       "        [[4, 9, 9, 4, 2, 6],\n",
       "         [2, 5, 1, 1, 8, 1],\n",
       "         [5, 7, 1, 9, 4, 4],\n",
       "         [6, 2, 0, 8, 7, 6],\n",
       "         [3, 0, 2, 5, 9, 2]]]])"
      ]
     },
     "execution_count": 22,
     "metadata": {},
     "output_type": "execute_result"
    }
   ],
   "source": [
    "nd4=np.random.randint(0,10,size=(3,4,5,6))\n",
    "nd4\n"
   ]
  },
  {
   "cell_type": "code",
   "execution_count": 23,
   "metadata": {},
   "outputs": [
    {
     "data": {
      "text/plain": [
       "(3, 4)"
      ]
     },
     "execution_count": 23,
     "metadata": {},
     "output_type": "execute_result"
    }
   ],
   "source": [
    "nd4.sum(axis = -1).sum(axis=-1).shape"
   ]
  },
  {
   "cell_type": "code",
   "execution_count": 24,
   "metadata": {},
   "outputs": [
    {
     "data": {
      "text/plain": [
       "array([[131, 132, 137, 159],\n",
       "       [130, 159, 124, 122],\n",
       "       [138, 140, 143, 132]])"
      ]
     },
     "execution_count": 24,
     "metadata": {},
     "output_type": "execute_result"
    }
   ],
   "source": [
    "nd4.sum(axis= (-1,2))"
   ]
  },
  {
   "cell_type": "code",
   "execution_count": 28,
   "metadata": {},
   "outputs": [
    {
     "name": "stdout",
     "output_type": "stream",
     "text": [
      "[1 2 3 4 5] [0 0 0 0 0 0 0 0 0 0 0 0 0 0 0 0 0]\n"
     ]
    },
    {
     "data": {
      "text/plain": [
       "array([1, 0, 0, 0, 2, 0, 0, 0, 3, 0, 0, 0, 4, 0, 0, 0, 5], dtype=int8)"
      ]
     },
     "execution_count": 28,
     "metadata": {},
     "output_type": "execute_result"
    }
   ],
   "source": [
    "nd1 = np.arange(1,6)\n",
    "nd1\n",
    "nd2 = np.zeros(17,dtype=np.int8)\n",
    "print(nd1,nd2)\n",
    "nd2[::4]=nd1\n",
    "nd2"
   ]
  },
  {
   "cell_type": "code",
   "execution_count": 30,
   "metadata": {},
   "outputs": [
    {
     "data": {
      "text/plain": [
       "array([0.62927552, 0.07150784, 0.4201734 , ..., 0.04565221, 0.53670613,\n",
       "       0.17454046])"
      ]
     },
     "execution_count": 30,
     "metadata": {},
     "output_type": "execute_result"
    }
   ],
   "source": [
    "# 14.创建一个10万长度的随机数组,使用两种方法对其中求三次方,比较事件\n",
    "nd5 = np.random.rand(10000)\n",
    "nd5"
   ]
  },
  {
   "cell_type": "code",
   "execution_count": 31,
   "metadata": {},
   "outputs": [
    {
     "name": "stdout",
     "output_type": "stream",
     "text": [
      "Wall time: 998 µs\n"
     ]
    },
    {
     "data": {
      "text/plain": [
       "array([2.49185359e-01, 3.65646146e-04, 7.41798004e-02, ...,\n",
       "       9.51448596e-05, 1.54600062e-01, 5.31726511e-03])"
      ]
     },
     "execution_count": 31,
     "metadata": {},
     "output_type": "execute_result"
    }
   ],
   "source": [
    "%%time\n",
    "np.power(nd5,3) #高效"
   ]
  },
  {
   "cell_type": "code",
   "execution_count": 32,
   "metadata": {},
   "outputs": [
    {
     "name": "stdout",
     "output_type": "stream",
     "text": [
      "Wall time: 4.99 ms\n"
     ]
    }
   ],
   "source": [
    "%%time\n",
    "ret=[]\n",
    "for i in nd5:\n",
    "    ret.append(i**3)"
   ]
  },
  {
   "cell_type": "code",
   "execution_count": 34,
   "metadata": {},
   "outputs": [
    {
     "data": {
      "text/plain": [
       "array([[ 26,  21],\n",
       "       [ 10,  10],\n",
       "       [ 99, 114],\n",
       "       [115, 110],\n",
       "       [ 97,  72]])"
      ]
     },
     "execution_count": 34,
     "metadata": {},
     "output_type": "execute_result"
    }
   ],
   "source": [
    "#\t15.创建一个5*3随机矩阵和一个3*2的随机矩阵,求矩阵*   矩阵运算要对齐\n",
    "a=np.random.randint(0,10,size=(5,3))\n",
    "b=np.random.randint(0,10,(3,2))\n",
    "np.dot(a,b)"
   ]
  },
  {
   "cell_type": "code",
   "execution_count": null,
   "metadata": {},
   "outputs": [],
   "source": []
  }
 ],
 "metadata": {
  "kernelspec": {
   "display_name": "Python 3",
   "language": "python",
   "name": "python3"
  },
  "language_info": {
   "codemirror_mode": {
    "name": "ipython",
    "version": 3
   },
   "file_extension": ".py",
   "mimetype": "text/x-python",
   "name": "python",
   "nbconvert_exporter": "python",
   "pygments_lexer": "ipython3",
   "version": "3.7.0"
  }
 },
 "nbformat": 4,
 "nbformat_minor": 4
}
