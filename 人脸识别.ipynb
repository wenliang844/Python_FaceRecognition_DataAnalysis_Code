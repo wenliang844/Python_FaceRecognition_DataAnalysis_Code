{
 "cells": [
  {
   "cell_type": "code",
   "execution_count": 3,
   "metadata": {},
   "outputs": [],
   "source": [
    "import numpy as np\n",
    "import cv2"
   ]
  },
  {
   "cell_type": "code",
   "execution_count": 4,
   "metadata": {},
   "outputs": [],
   "source": [
    "jin = cv2.imread('./jza.jpg')\n",
    "detector = cv2.CascadeClassifier('./haarcascade_frontalface_default.xml')"
   ]
  },
  {
   "cell_type": "code",
   "execution_count": 5,
   "metadata": {},
   "outputs": [],
   "source": [
    "face_zone = detector.detectMultiScale(jin)\n",
    "face_zone\n",
    "\n",
    "for x,y,w,h in face_zone:\n",
    "    cv2.rectangle(jin,pt1=(x,y),pt2 = (x+w,y+h),color=[0,0,255])\n",
    "    \n",
    "cv2.imshow('jin',jin)\n",
    "cv2.waitKey(0)\n",
    "cv2.destroyAllWindows()"
   ]
  },
  {
   "cell_type": "code",
   "execution_count": 4,
   "metadata": {},
   "outputs": [
    {
     "data": {
      "text/plain": [
       "113"
      ]
     },
     "execution_count": 4,
     "metadata": {},
     "output_type": "execute_result"
    }
   ],
   "source": [
    "nba = cv2.imread('./nba1.jpg')\n",
    "face_zone2 = detector.detectMultiScale(nba)\n",
    "face_zone\n",
    "\n",
    "for x,y,w,h in face_zone2:\n",
    "    cv2.rectangle(jin,pt1=(x,y),pt2 = (x+w,y+h),color=[0,0,255])\n",
    "    \n",
    "cv2.imshow('nba',nba)\n",
    "cv2.waitKey(0)"
   ]
  },
  {
   "cell_type": "code",
   "execution_count": 10,
   "metadata": {},
   "outputs": [
    {
     "data": {
      "text/plain": [
       "113"
      ]
     },
     "execution_count": 10,
     "metadata": {},
     "output_type": "execute_result"
    }
   ],
   "source": [
    "q = cv2.imread('./q.jpg')\n",
    "face_zone3 = detector.detectMultiScale(q)\n",
    "face_zone3\n",
    "\n",
    "for x,y,w,h in face_zone3:\n",
    "    cv2.rectangle(jin,pt1=(x,y),pt2 = (x+w,y+h),color=[0,0,255])\n",
    "    \n",
    "cv2.imshow('q',q)\n",
    "cv2.waitKey(0)"
   ]
  },
  {
   "cell_type": "code",
   "execution_count": 25,
   "metadata": {},
   "outputs": [],
   "source": [
    "face_zone = detector.detectMultiScale(jin,scaleFactor = 1.3,minNeighbors = 5,minSize=(20,20))\n",
    "face_zone\n",
    "\n",
    "for x,y,w,h in face_zone:\n",
    "    cv2.rectangle(jin,pt1=(x,y),pt2 = (x+w,y+h),color=[0,0,255],thickness=2)\n",
    "    color=np.random.randint(0,256,size=3)\n",
    "    cv2.circle(jin,center = (x+w//2,y+h//2),radius=w//2,color=color.tolist(),thickness=2)\n",
    "    \n",
    "cv2.imshow('jin',jin)\n",
    "cv2.waitKey(0)\n",
    "cv2.destroyAllWindows()"
   ]
  },
  {
   "cell_type": "code",
   "execution_count": null,
   "metadata": {},
   "outputs": [],
   "source": []
  }
 ],
 "metadata": {
  "kernelspec": {
   "display_name": "Python 3",
   "language": "python",
   "name": "python3"
  },
  "language_info": {
   "codemirror_mode": {
    "name": "ipython",
    "version": 3
   },
   "file_extension": ".py",
   "mimetype": "text/x-python",
   "name": "python",
   "nbconvert_exporter": "python",
   "pygments_lexer": "ipython3",
   "version": "3.7.0"
  }
 },
 "nbformat": 4,
 "nbformat_minor": 4
}
